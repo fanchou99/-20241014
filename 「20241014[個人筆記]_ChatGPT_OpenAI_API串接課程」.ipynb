{
  "nbformat": 4,
  "nbformat_minor": 0,
  "metadata": {
    "colab": {
      "provenance": [],
      "authorship_tag": "ABX9TyPE6Ka5UWtu8XeYAjjZy4nr",
      "include_colab_link": true
    },
    "kernelspec": {
      "name": "python3",
      "display_name": "Python 3"
    },
    "language_info": {
      "name": "python"
    }
  },
  "cells": [
    {
      "cell_type": "markdown",
      "metadata": {
        "id": "view-in-github",
        "colab_type": "text"
      },
      "source": [
        "<a href=\"https://colab.research.google.com/github/fanchou99/-20241014/blob/main/%E3%80%8C20241014%5B%E5%80%8B%E4%BA%BA%E7%AD%86%E8%A8%98%5D_ChatGPT_OpenAI_API%E4%B8%B2%E6%8E%A5%E8%AA%B2%E7%A8%8B%E3%80%8D.ipynb\" target=\"_parent\"><img src=\"https://colab.research.google.com/assets/colab-badge.svg\" alt=\"Open In Colab\"/></a>"
      ]
    },
    {
      "cell_type": "code",
      "execution_count": null,
      "metadata": {
        "id": "nsupJ7d9yze3"
      },
      "outputs": [],
      "source": []
    }
  ]
}